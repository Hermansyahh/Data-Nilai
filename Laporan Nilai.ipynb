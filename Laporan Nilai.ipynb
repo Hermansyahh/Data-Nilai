{
 "cells": [
  {
   "cell_type": "code",
   "execution_count": 7,
   "metadata": {},
   "outputs": [
    {
     "name": "stdout",
     "output_type": "stream",
     "text": [
      "******************************\n",
      "Data Inputan\n",
      "NIS                    :11806632\n",
      "Nama                   :Hermansyah\n",
      "JK                      :L\n",
      "Rombel              :RPL XI-3\n",
      "Rayon                :TAJUR 2\n",
      "Nilai B.indonesia :90\n",
      "Nilai Matematika    :80\n",
      "Nilai B.inggris    :75\n",
      "******************************\n",
      "Laporan Nilai Akhir Semester\n",
      "Smk Wikrama Bogor\n",
      "--------Data Diri--------\n",
      "NIS               : 11806632\n",
      "Nama              : Hermansyah\n",
      "JK                : L\n",
      "Rombel            : RPL XI-3\n",
      "Rayon             : TAJUR 2\n",
      "----------Nilai-----------\n",
      "Nilai B.indonesia : 90\n",
      "Nilai Matematika  : 80\n",
      "Nilai B.inggris   : 75\n",
      "Rata-Rata Nilai  : 81.66666666666667\n",
      "Kriteria Kelulusan : Lulus\n"
     ]
    }
   ],
   "source": [
    "print (\"*\"*30)\n",
    "print (\"Data Inputan\")\n",
    "nis = input(\"NIS                    :\")\n",
    "nama= input(\"Nama                   :\")\n",
    "jk = input(\"JK                      :\")\n",
    "rombel = input(\"Rombel              :\")\n",
    "rayon = input(\"Rayon                :\")\n",
    "Bindo =int(input(\"Nilai B.indonesia :\"))\n",
    "Mtk =int(input(\"Nilai Matematika    :\"))\n",
    "Bing =int(input(\"Nilai B.inggris    :\"))\n",
    "print (\"*\"*30)\n",
    "print (\"Laporan Nilai Akhir Semester\")\n",
    "print (\"Smk Wikrama Bogor\")\n",
    "print (\"--------Data Diri--------\")\n",
    "print(\"NIS               :\",nis)\n",
    "print(\"Nama              :\",nama)\n",
    "print(\"JK                :\",jk)\n",
    "print(\"Rombel            :\",rombel)\n",
    "print(\"Rayon             :\",rayon)\n",
    "print(\"----------Nilai-----------\")\n",
    "print(\"Nilai B.indonesia :\",Bindo)\n",
    "print(\"Nilai Matematika  :\",Mtk)\n",
    "print(\"Nilai B.inggris   :\",Bing)\n",
    "Rata2 = (Bindo+Mtk+Bing)/3\n",
    "print (\"Rata-Rata Nilai  :\",Rata2)\n",
    "if Rata2 >= 75 :\n",
    "    print (\"Kriteria Kelulusan : Lulus\")\n",
    "else :\n",
    "    print (\"Kriteria Kelulusan : Tidak Lulus\")\n",
    "\n",
    "    \n",
    "    \n",
    "    \n",
    "    \n",
    "    \n",
    "    \n",
    "\n",
    "\n"
   ]
  },
  {
   "cell_type": "code",
   "execution_count": null,
   "metadata": {},
   "outputs": [],
   "source": []
  }
 ],
 "metadata": {
  "kernelspec": {
   "display_name": "Python 3",
   "language": "python",
   "name": "python3"
  },
  "language_info": {
   "codemirror_mode": {
    "name": "ipython",
    "version": 3
   },
   "file_extension": ".py",
   "mimetype": "text/x-python",
   "name": "python",
   "nbconvert_exporter": "python",
   "pygments_lexer": "ipython3",
   "version": "3.7.3"
  }
 },
 "nbformat": 4,
 "nbformat_minor": 2
}
